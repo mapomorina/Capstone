{
    "nbformat_minor": 1, 
    "cells": [
        {
            "source": "# Segmenting and Clustering Neighborhoods in Toronto", 
            "cell_type": "markdown", 
            "metadata": {
                "collapsed": true
            }
        }, 
        {
            "execution_count": 2, 
            "cell_type": "code", 
            "metadata": {}, 
            "outputs": [], 
            "source": "#import necessary libraries\nimport numpy as np # library to handle data in a vectorized manner\nimport pandas as pd # library for data analsysis\nimport requests # library for import html-file\nfrom requests.packages.urllib3.exceptions import InsecureRequestWarning \n#requests.packages.urllib3.disable_warnings(InsecureRequestWarning)\n#from requests_html import HTMLSession\n\nimport csv\nfrom bs4 import BeautifulSoup\nimport re\nimport sys\n#import configurate as conf #load module ../configurate.py\n"
        }, 
        {
            "execution_count": 29, 
            "cell_type": "code", 
            "metadata": {
                "scrolled": true
            }, 
            "outputs": [], 
            "source": "#\u0437\u0430\u0433\u0440\u0443\u0437\u043a\u0430 \u0441\u0442\u0440\u0430\u043d\u0438\u0446\u044b \u0438 \u0432\u044b\u0434\u0435\u043b\u0435\u043d\u0438\u0435 \u0442\u0430\u0431\u043b\u0438\u0446\u044b \u0438\u0437 \u043e\u0431\u0449\u0435\u0433\u043e \u0442\u0435\u043a\u0441\u0442\u0430\nurl ='https://en.wikipedia.org/wiki/List_of_postal_codes_of_Canada:_M'\nr = requests.get(url)\nresponseText = r.text\nsoup = BeautifulSoup(responseText, \"html.parser\")\n\nresultTable = soup.table.tbody\n#print(resultTable.prettify())"
        }, 
        {
            "execution_count": 89, 
            "cell_type": "code", 
            "metadata": {
                "scrolled": false
            }, 
            "outputs": [], 
            "source": "# Handle column names\nheadline = resultTable.findAll('th')\n#print(headline)\nn_col = 0\ncolumn_names = []\nfor col_ind in headline:\n    column_names.append(col_ind.get_text().strip())\n    n_col = n_col + 1\ndf=pd.DataFrame(columns = column_names)"
        }, 
        {
            "execution_count": 90, 
            "cell_type": "code", 
            "metadata": {
                "scrolled": true
            }, 
            "outputs": [
                {
                    "output_type": "stream", 
                    "name": "stdout", 
                    "text": "288\n  Postcode           Borough     Neighbourhood\n0      M1A      Not assigned      Not assigned\n1      M2A      Not assigned      Not assigned\n2      M3A        North York         Parkwoods\n3      M4A        North York  Victoria Village\n4      M5A  Downtown Toronto      Harbourfront\n    Postcode       Borough          Neighbourhood\n283      M8Z     Etobicoke              Mimico NW\n284      M8Z     Etobicoke     The Queensway West\n285      M8Z     Etobicoke  Royal York South West\n286      M8Z     Etobicoke         South of Bloor\n287      M9Z  Not assigned           Not assigned\n"
                }
            ], 
            "source": "# Handle row contents\nRow_All = resultTable.findAll('tr')\nn_row = 0\nrow_df={}\nfor Row in Row_All:\n    columns = Row.findAll('td')\n    line = []\n    i = 0\n    for col in columns:\n        if(len(col)>0): \n            line.append((col.text).strip())\n            row_df[column_names[i]] = line[i]\n            i = i+1\n    if(i>0):\n        df = df.append(row_df, ignore_index=True)\n        n_row = n_row + 1\nprint (n_row)\nprint(df.head())\nprint(df.tail())"
        }, 
        {
            "execution_count": 91, 
            "cell_type": "code", 
            "metadata": {
                "scrolled": true
            }, 
            "outputs": [
                {
                    "output_type": "stream", 
                    "name": "stdout", 
                    "text": "  Postcode           Borough     Neighbourhood\n0      M3A        North York         Parkwoods\n1      M4A        North York  Victoria Village\n2      M5A  Downtown Toronto      Harbourfront\n3      M5A  Downtown Toronto       Regent Park\n4      M6A        North York  Lawrence Heights\n    Postcode    Borough             Neighbourhood\n206      M8Z  Etobicoke  Kingsway Park South West\n207      M8Z  Etobicoke                 Mimico NW\n208      M8Z  Etobicoke        The Queensway West\n209      M8Z  Etobicoke     Royal York South West\n210      M8Z  Etobicoke            South of Bloor\n"
                }
            ], 
            "source": "#Delete rows where [Borough]=N/A\ndf.drop(df[(df.Borough == 'Not assigned')].index, inplace=True)\ndf.reset_index(inplace=True)\ndel df['index']\nprint(df.head())\nprint(df.tail())"
        }, 
        {
            "execution_count": 92, 
            "cell_type": "code", 
            "metadata": {}, 
            "outputs": [
                {
                    "output_type": "stream", 
                    "name": "stdout", 
                    "text": "  Postcode      Borough                         Neighbourhood\n0      M1B  Scarborough                         Rouge,Malvern\n1      M1C  Scarborough  Highland Creek,Rouge Hill,Port Union\n2      M1E  Scarborough       Guildwood,Morningside,West Hill\n3      M1G  Scarborough                                Woburn\n4      M1H  Scarborough                             Cedarbrae\n    Postcode    Borough                                      Neighbourhood\n98       M9N       York                                             Weston\n99       M9P  Etobicoke                                          Westmount\n100      M9R  Etobicoke  Kingsview Village,Martin Grove Gardens,Richvie...\n101      M9V  Etobicoke  Albion Gardens,Beaumond Heights,Humbergate,Jam...\n102      M9W  Etobicoke                                          Northwest\n"
                }
            ], 
            "source": "#Merge Borough\ndf=df.groupby(['Postcode', 'Borough'])['Neighbourhood'].apply(','.join).reset_index()\nprint(df.head())\nprint(df.tail())"
        }, 
        {
            "execution_count": 93, 
            "cell_type": "code", 
            "metadata": {}, 
            "outputs": [
                {
                    "output_type": "stream", 
                    "name": "stdout", 
                    "text": "85\nQueen's Park\n"
                }
            ], 
            "source": "#Replace empty Neighbourhood\nn_row=df.shape[0]\nfor i in range(0,n_row):\n    if (df.loc[i,'Neighbourhood']=='Not assigned'):\n        print (i)\n        df.loc[i,'Neighbourhood']=df.loc[i,'Borough']\n        print (df.loc[i,'Neighbourhood'])"
        }, 
        {
            "execution_count": 94, 
            "cell_type": "code", 
            "metadata": {
                "scrolled": true
            }, 
            "outputs": [
                {
                    "execution_count": 94, 
                    "metadata": {}, 
                    "data": {
                        "text/plain": "(103, 3)"
                    }, 
                    "output_type": "execute_result"
                }
            ], 
            "source": "df.shape"
        }, 
        {
            "execution_count": null, 
            "cell_type": "code", 
            "metadata": {}, 
            "outputs": [], 
            "source": ""
        }
    ], 
    "metadata": {
        "kernelspec": {
            "display_name": "Python 3.5", 
            "name": "python3", 
            "language": "python"
        }, 
        "language_info": {
            "mimetype": "text/x-python", 
            "nbconvert_exporter": "python", 
            "version": "3.5.5", 
            "name": "python", 
            "file_extension": ".py", 
            "pygments_lexer": "ipython3", 
            "codemirror_mode": {
                "version": 3, 
                "name": "ipython"
            }
        }
    }, 
    "nbformat": 4
}